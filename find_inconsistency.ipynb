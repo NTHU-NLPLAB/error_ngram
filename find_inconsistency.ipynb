{
 "cells": [
  {
   "cell_type": "code",
   "execution_count": 69,
   "metadata": {},
   "outputs": [],
   "source": [
    "import nltk, re\n",
    "import fileinput\n",
    "from collections import Counter"
   ]
  },
  {
   "cell_type": "code",
   "execution_count": 6,
   "metadata": {},
   "outputs": [],
   "source": [
    "def to_after(tokens, reserved='about'):\n",
    "    def to_after_token(token):\n",
    "        token = token.replace('\\u3000', ' ')\n",
    "        if token == ' ': return ''\n",
    "        \n",
    "        if token.endswith('-]'):\n",
    "            return None\n",
    "        # key part, may happen is+} get his+}\n",
    "        elif reserved and (token.endswith(reserved + '+}') or token.startswith('[-' + reserved)):\n",
    "            return token\n",
    "        elif token.endswith('+}'):\n",
    "            return token[token.rfind('>>')+2:-2]  if token.startswith('[-') else token[2:-2]  \n",
    "        else:\n",
    "            return token\n",
    "    return [e for token in map(to_after_token, tokens) if token for e in token.split(' ')]\n",
    "\n",
    "def to_before(tokens, reserved=''):\n",
    "    def to_before_token(token):\n",
    "        token = token.replace('\\u3000', ' ')\n",
    "        if token == ' ': return ''\n",
    "        \n",
    "        if token.endswith('-]'):\n",
    "            return token[2:-2]\n",
    "        elif token.endswith('+}'):\n",
    "            return token[2:token.rfind('>>')]  if token.startswith('[-') else None\n",
    "        else:\n",
    "            return token\n",
    "    return [ token for token in map(to_before_token, tokens) if token ]"
   ]
  },
  {
   "cell_type": "code",
   "execution_count": 7,
   "metadata": {},
   "outputs": [
    {
     "data": {
      "text/plain": [
       "['hello', 'about', 'qqqq', '[-about>>ddd+}', 'asdfdf']"
      ]
     },
     "execution_count": 7,
     "metadata": {},
     "output_type": "execute_result"
    }
   ],
   "source": [
    "to_after(['hello','[-about-]', '[-asdf\\u3000asdfccc>>about\\u3000qqqq+}', '[-about>>ddd+}', 'asdfdf'], reserved='about')\n",
    "# to_before(['hello','[-about-]', '[-asdf>>about+}', '[-vvv>>ddd+}', 'asdfdf'])"
   ]
  },
  {
   "cell_type": "code",
   "execution_count": 8,
   "metadata": {},
   "outputs": [],
   "source": [
    "# 擔心有一句包含兩個 about+} 所以換個邏輯\n",
    "def divide_triedit_noedit(aft_tokens, reserved='about'):\n",
    "    noedit_list, triedit_list = [[]], []\n",
    "\n",
    "    for i, tk in enumerate(aft_tokens):\n",
    "        if '+}' in tk: # reserved word ，應該是不會有 [--] 出現\n",
    "            if i > 0 and i+1 < len(aft_tokens):\n",
    "                triedit_list.append(tuple(aft_tokens[i-1:i+2]))\n",
    "            \n",
    "            noedit_list.append([])\n",
    "        else: \n",
    "            noedit_list[-1].append(tk)\n",
    "\n",
    "    return noedit_list, triedit_list"
   ]
  },
  {
   "cell_type": "code",
   "execution_count": 9,
   "metadata": {},
   "outputs": [
    {
     "data": {
      "text/plain": [
       "([['hello'], ['ddd', 'asdfdf', 'asdss'], []],\n",
       " [('hello', '[-about>>ddd+}', 'ddd')])"
      ]
     },
     "execution_count": 9,
     "metadata": {},
     "output_type": "execute_result"
    }
   ],
   "source": [
    "divide_triedit_noedit(['hello', '[-asdf>>about+}', 'ddd', 'asdfdf', '[-fff>>about+}', 'asdss'])\n",
    "divide_triedit_noedit(['hello', '[-asdf>>about+}', 'ddd', 'asdfdf', 'asdss'])\n",
    "divide_triedit_noedit(['hello', '[-about>>ddd+}', 'ddd', 'asdfdf', 'asdss', '[-asdsfas>>about+}'])"
   ]
  },
  {
   "cell_type": "code",
   "execution_count": 10,
   "metadata": {},
   "outputs": [],
   "source": [
    "def get_bigram(tokens):\n",
    "    return list(nltk.bigrams(tokens))\n",
    "\n",
    "def get_trigram(tokens):\n",
    "    return list(nltk.trigrams(tokens))"
   ]
  },
  {
   "cell_type": "code",
   "execution_count": 11,
   "metadata": {},
   "outputs": [
    {
     "data": {
      "text/plain": [
       "[('one', 'asd', 'aaa')]"
      ]
     },
     "execution_count": 11,
     "metadata": {},
     "output_type": "execute_result"
    }
   ],
   "source": [
    "get_trigram(['one'])\n",
    "get_trigram(['one', 'asd', 'aaa'])"
   ]
  },
  {
   "cell_type": "code",
   "execution_count": 36,
   "metadata": {},
   "outputs": [
    {
     "name": "stdout",
     "output_type": "stream",
     "text": [
      "[('I', 'had', 'some'), ('had', 'some', 'money'), ('some', 'money', 'in'), ('money', 'in', 'my'), ('in', 'my', 'bag'), ('my', 'bag', '('), ('bag', '(', 'about'), ('(', 'about', '100'), ('about', '100', 'dollars'), ('100', 'dollars', ')')]\n"
     ]
    }
   ],
   "source": [
    "edit_list = [] # trigram edit\n",
    "bigrams, trigrams = [], []\n",
    "    \n",
    "# for line in open('ef.diff.simplize.despace.txt', 'r', encoding='utf8').readlines():# fileinput.input():\n",
    "for line in open('test.txt', 'r', encoding='utf8').readlines():# fileinput.input():\n",
    "    tokens = line.strip().split(' ')\n",
    "    # print(tokens)\n",
    "    aft_tokens = to_after(tokens, reserved='about')\n",
    "\n",
    "    noedit_list, edit_tokens = divide_triedit_noedit(aft_tokens)\n",
    "    # print(noedit_list)\n",
    "    # print(triedit_tokens)\n",
    "    edit_list.extend(edit_tokens)\n",
    "    # print(edit_list)\n",
    "\n",
    "    # 會有 [] 出現，若是長度不夠\n",
    "    for no_edit in noedit_list:\n",
    "        bigrams.extend(get_bigram(no_edit))\n",
    "        trigrams.extend(get_trigram(no_edit))\n",
    "\n",
    "    # print(edit_list)  \n",
    "    # print(bigrams)\n",
    "\n",
    "uniq_edit = set(edit_list)"
   ]
  },
  {
   "cell_type": "code",
   "execution_count": 55,
   "metadata": {},
   "outputs": [],
   "source": [
    "def bi_vs_edit(bigram, uniq_edit_list, reserved='about'):\n",
    "    group = set()\n",
    "    for edit in uniq_edit_list:\n",
    "        if edit[1].endswith(reserved + '+}'): # only insertion and replace\n",
    "            if bigram[0] == edit[0] and bigram[1] == edit[2]:\n",
    "                group.add(edit)\n",
    "    return group\n",
    "\n",
    "def tri_vs_edit(trigram, uniq_edit_list, reserved='about'):\n",
    "    group = set()\n",
    "    for edit in uniq_edit_list:\n",
    "        tri_befs = []\n",
    "        for token in edit:\n",
    "            # care deletion and replace and retrace\n",
    "            tri_befs.append(token[2:-2].split('>>')[0] if token.startswith('[-' + reserved) else token)\n",
    "\n",
    "        if trigram == tuple(tri_befs):\n",
    "            group.add(edit)\n",
    "    return group"
   ]
  },
  {
   "cell_type": "code",
   "execution_count": 56,
   "metadata": {},
   "outputs": [
    {
     "data": {
      "text/plain": [
       "[('discuss', '[-about-]', 'it'), ('discuss', '[-about>>abc+}', 'it')]"
      ]
     },
     "execution_count": 56,
     "metadata": {},
     "output_type": "execute_result"
    }
   ],
   "source": [
    "tri_vs_edit(('discuss', 'about', 'it'), \n",
    "           [('discuss','[-about-]','it'), ('discuss','[-about>>abc+}','it'), \n",
    "            ('discuss','[-abc>>about+}','it'), ('discuss', '{+about+}', 'it')])"
   ]
  },
  {
   "cell_type": "code",
   "execution_count": 64,
   "metadata": {},
   "outputs": [
    {
     "data": {
      "text/plain": [
       "{('How', 'about', 'you'): [('How', '[-about>>are+}', 'you')],\n",
       " ('apologize', 'about', 'the'): [('apologize', '[-about>>for+}', 'the')],\n",
       " ('care', 'about', 'you'): [('care', '[-about>>of+}', 'you')],\n",
       " ('control', 'about', 'their'): [('control', '[-about>>of+}', 'their')],\n",
       " ('flattered', 'about', 'your'): [('flattered', '[-about>>by+}', 'your')],\n",
       " ('information', 'about', 'the'): [('information', '[-about>>under+}', 'the')],\n",
       " ('results', 'about', 'the'): [('results', '[-about>>that+}', 'the')],\n",
       " ('thinking', 'about', 'going'): [('thinking', '[-about>>of+}', 'going')],\n",
       " ('you', 'about', 'your'): [('you', '[-about>>with+}', 'your')]}"
      ]
     },
     "execution_count": 64,
     "metadata": {},
     "output_type": "execute_result"
    }
   ],
   "source": [
    "bi_edit_group = dict()\n",
    "for bi in set(bigrams):\n",
    "    group = list(bi_vs_edit(bi, uniq_edit))\n",
    "    if group: bi_edit_group[bi] = group\n",
    "    # print(bi_edit_group[bi])\n",
    "    # print('='*50) \n",
    "    \n",
    "tri_edit_group = dict()\n",
    "for tri in set(trigrams):\n",
    "    group = list(tri_vs_edit(tri, uniq_edit))\n",
    "    if group: tri_edit_group[tri] = group\n",
    "    # print(tri_edit_group[tri])\n",
    "    # print('='*50) \n",
    "    \n",
    "tri_edit_group"
   ]
  },
  {
   "cell_type": "code",
   "execution_count": 104,
   "metadata": {},
   "outputs": [],
   "source": [
    "def count_bi_edit(bi_edit, bigrams_count, edit_list_count):\n",
    "    dic = {}\n",
    "    dic[bi_edit[0]] = bigrams_count[bi_edit[0]]\n",
    "    for ngram in bi_edit[1:]:\n",
    "        dic[ngram] = [edit_list_count[ngram], edit_list_count[ngram] / dic[bi_edit[0]]]\n",
    "    return sorted(dic.items(), key = lambda item: len(item[0]))\n",
    "\n",
    "\n",
    "def count_tri_edit(tri_edit, trigrams_count, edit_list_count):\n",
    "    dict = {}\n",
    "    dict[tri_edit[0]] = trigrams_count[tri_edit[0]]\n",
    "    for ngram in tri_edit[1:]:\n",
    "        dict[ngram] = [edit_list_count[ngram], edit_list_count[ngram] / dict[tri_edit[0]]]\n",
    "    return sorted(dict.items(), key = lambda item: len(item[0]))\n",
    "\n",
    "\n",
    "def sort(count_bi):\n",
    "    return sorted(count_bi, key=lambda item: (item[1][1][1]))"
   ]
  },
  {
   "cell_type": "code",
   "execution_count": 105,
   "metadata": {},
   "outputs": [
    {
     "name": "stdout",
     "output_type": "stream",
     "text": [
      "[(('was', 'the'), 3), (('was', '{+about+}', 'the'), [1, 0.3333333333333333])]\n",
      "[(('you', 'the'), 2), (('you', '{+about+}', 'the'), [1, 0.5])]\n",
      "[(('me', 'the'), 2), (('me', '{+about+}', 'the'), [1, 0.5])]\n",
      "[(('think', 'it'), 3), (('think', '[-for>>about+}', 'it'), [1, 0.3333333333333333])]\n",
      "[(('you', 'some'), 6), (('you', '{+about+}', 'some'), [1, 0.16666666666666666])]\n",
      "[(('hear', 'your'), 1), (('hear', '{+about+}', 'your'), [1, 1.0]), (('hear', 'about+}', 'your'), [1, 1.0])]\n",
      "[(('me', 'a'), 1), (('me', '{+about+}', 'a'), [1, 1.0])]\n",
      "[(('you', 'my'), 2), (('you', '{+about+}', 'my'), [1, 0.5])]\n",
      "[(('think', 'a'), 1), (('think', '[-in>>about+}', 'a'), [1, 1.0])]\n",
      "[(('and', 'his'), 4), (('and', '{+about+}', 'his'), [1, 0.25])]\n",
      "[((',', 'his'), 2), ((',', '{+about+}', 'his'), [1, 0.5])]\n",
      "[(('you', 'something'), 4), (('you', '{+about+}', 'something'), [1, 0.25])]\n",
      "information about the: 5\n",
      "information [-about>>under+} the: [1, 0.2]\n",
      "==================================================\n",
      "results about the: 1\n",
      "results [-about>>that+} the: [1, 1.0]\n",
      "==================================================\n",
      "apologize about the: 1\n",
      "apologize [-about>>for+} the: [1, 1.0]\n",
      "==================================================\n",
      "care about you: 1\n",
      "care [-about>>of+} you: [1, 1.0]\n",
      "==================================================\n",
      "control about their: 1\n",
      "control [-about>>of+} their: [1, 1.0]\n",
      "==================================================\n",
      "you about your: 1\n",
      "you [-about>>with+} your: [1, 1.0]\n",
      "==================================================\n",
      "thinking about going: 1\n",
      "thinking [-about>>of+} going: [1, 1.0]\n",
      "==================================================\n",
      "flattered about your: 1\n",
      "flattered [-about>>by+} your: [1, 1.0]\n",
      "==================================================\n",
      "How about you: 2\n",
      "How [-about>>are+} you: [1, 0.5]\n",
      "==================================================\n"
     ]
    }
   ],
   "source": [
    "count_bi, count_tri = [], []\n",
    "\n",
    "bigrams_count = Counter(bigrams)\n",
    "trigrams_count = Counter(trigrams)\n",
    "edit_list_count = Counter(edit_list)\n",
    "\n",
    "for bi, edit in bi_edit_group.items():\n",
    "    c_bi_edit = count_bi_edit([bi] + edit, bigrams_count, edit_list_count)\n",
    "    count_bi.append(c_bi_edit)\n",
    "    print(c_bi_edit)\n",
    "    # print('='*50)\n",
    "    \n",
    "for tri, edit in tri_edit_group.items():\n",
    "    c_tri_edit = count_tri_edit([tri] + edit, trigrams_count, edit_list_count)\n",
    "    count_tri.append(c_tri_edit)\n",
    "    # print(c_tri_edit)\n",
    "\n",
    "    for freq in c_tri_edit:\n",
    "        print(' '.join(freq[0]), ': ', freq[1], sep='')\n",
    "    print('='*50)"
   ]
  },
  {
   "cell_type": "code",
   "execution_count": 106,
   "metadata": {},
   "outputs": [
    {
     "name": "stdout",
     "output_type": "stream",
     "text": [
      "[[(('you', 'some'), 6), (('you', '{+about+}', 'some'), [1, 0.16666666666666666])], [(('and', 'his'), 4), (('and', '{+about+}', 'his'), [1, 0.25])], [(('you', 'something'), 4), (('you', '{+about+}', 'something'), [1, 0.25])], [(('was', 'the'), 3), (('was', '{+about+}', 'the'), [1, 0.3333333333333333])], [(('think', 'it'), 3), (('think', '[-for>>about+}', 'it'), [1, 0.3333333333333333])], [(('you', 'the'), 2), (('you', '{+about+}', 'the'), [1, 0.5])], [(('me', 'the'), 2), (('me', '{+about+}', 'the'), [1, 0.5])], [(('you', 'my'), 2), (('you', '{+about+}', 'my'), [1, 0.5])], [((',', 'his'), 2), ((',', '{+about+}', 'his'), [1, 0.5])], [(('hear', 'your'), 1), (('hear', '{+about+}', 'your'), [1, 1.0]), (('hear', 'about+}', 'your'), [1, 1.0])], [(('me', 'a'), 1), (('me', '{+about+}', 'a'), [1, 1.0])], [(('think', 'a'), 1), (('think', '[-in>>about+}', 'a'), [1, 1.0])]]\n",
      "[[(('information', 'about', 'the'), 5), (('information', '[-about>>under+}', 'the'), [1, 0.2])], [(('results', 'about', 'the'), 1), (('results', '[-about>>that+}', 'the'), [1, 1.0])], [(('apologize', 'about', 'the'), 1), (('apologize', '[-about>>for+}', 'the'), [1, 1.0])], [(('care', 'about', 'you'), 1), (('care', '[-about>>of+}', 'you'), [1, 1.0])], [(('control', 'about', 'their'), 1), (('control', '[-about>>of+}', 'their'), [1, 1.0])], [(('you', 'about', 'your'), 1), (('you', '[-about>>with+}', 'your'), [1, 1.0])], [(('thinking', 'about', 'going'), 1), (('thinking', '[-about>>of+}', 'going'), [1, 1.0])], [(('flattered', 'about', 'your'), 1), (('flattered', '[-about>>by+}', 'your'), [1, 1.0])], [(('How', 'about', 'you'), 2), (('How', '[-about>>are+}', 'you'), [1, 0.5])]]\n"
     ]
    },
    {
     "ename": "NameError",
     "evalue": "name 'counts_bi' is not defined",
     "output_type": "error",
     "traceback": [
      "\u001b[0;31m---------------------------------------------------------------------------\u001b[0m",
      "\u001b[0;31mNameError\u001b[0m                                 Traceback (most recent call last)",
      "\u001b[0;32m<ipython-input-106-b07850f2bf56>\u001b[0m in \u001b[0;36m<module>\u001b[0;34m()\u001b[0m\n\u001b[1;32m      6\u001b[0m \u001b[0;34m\u001b[0m\u001b[0m\n\u001b[1;32m      7\u001b[0m \u001b[0;34m\u001b[0m\u001b[0m\n\u001b[0;32m----> 8\u001b[0;31m     \u001b[0;32mfor\u001b[0m \u001b[0mcount_bi\u001b[0m \u001b[0;32min\u001b[0m \u001b[0msort\u001b[0m\u001b[0;34m(\u001b[0m\u001b[0mcounts_bi\u001b[0m\u001b[0;34m)\u001b[0m\u001b[0;34m:\u001b[0m\u001b[0;34m\u001b[0m\u001b[0m\n\u001b[0m\u001b[1;32m      9\u001b[0m         \u001b[0;32mfor\u001b[0m \u001b[0mfreq\u001b[0m \u001b[0;32min\u001b[0m \u001b[0mcount_bi\u001b[0m\u001b[0;34m:\u001b[0m\u001b[0;34m\u001b[0m\u001b[0m\n\u001b[1;32m     10\u001b[0m             \u001b[0mprint\u001b[0m\u001b[0;34m(\u001b[0m\u001b[0;34m' '\u001b[0m\u001b[0;34m.\u001b[0m\u001b[0mjoin\u001b[0m\u001b[0;34m(\u001b[0m\u001b[0mfreq\u001b[0m\u001b[0;34m[\u001b[0m\u001b[0;36m0\u001b[0m\u001b[0;34m]\u001b[0m\u001b[0;34m)\u001b[0m\u001b[0;34m,\u001b[0m \u001b[0;34m': '\u001b[0m\u001b[0;34m,\u001b[0m \u001b[0mfreq\u001b[0m\u001b[0;34m[\u001b[0m\u001b[0;36m1\u001b[0m\u001b[0;34m]\u001b[0m\u001b[0;34m,\u001b[0m \u001b[0msep\u001b[0m \u001b[0;34m=\u001b[0m \u001b[0;34m''\u001b[0m\u001b[0;34m)\u001b[0m\u001b[0;34m\u001b[0m\u001b[0m\n",
      "\u001b[0;31mNameError\u001b[0m: name 'counts_bi' is not defined"
     ]
    }
   ],
   "source": [
    "if __name__ == '__main__':\n",
    "#     print(count_bi)\n",
    "    print(sort(count_bi))\n",
    "    print(count_tri)\n",
    "    # print(sort(counts_tri))\n",
    "\n",
    "\n",
    "    for count_bi in sort(counts_bi):\n",
    "        for freq in count_bi:\n",
    "            print(' '.join(freq[0]), ': ', freq[1], sep = '')\n",
    "        print('='*50)\n",
    "\n",
    "    # for count_tri in sort(counts_tri):\n",
    "    #     for freq in count_tri:\n",
    "    #         print(' '.join(freq[0]), ': ', freq[1], sep = '')\n",
    "    #     print('='*50)\n",
    "\n",
    "\n",
    "        # for freq in count_bvst:\n",
    "        #     print(' '.join(freq[0]), ': ', freq[1], sep = '')\n",
    "        # print('='*50)\n",
    "\n",
    "   \n",
    "        # for freq in count_tvst:\n",
    "        #     print(' '.join(freq[0]), ': ', freq[1], sep = '')\n",
    "        # print('='*50)\n",
    "\n"
   ]
  },
  {
   "cell_type": "code",
   "execution_count": null,
   "metadata": {},
   "outputs": [],
   "source": []
  }
 ],
 "metadata": {
  "kernelspec": {
   "display_name": "Python 3",
   "language": "python",
   "name": "python3"
  },
  "language_info": {
   "codemirror_mode": {
    "name": "ipython",
    "version": 3
   },
   "file_extension": ".py",
   "mimetype": "text/x-python",
   "name": "python",
   "nbconvert_exporter": "python",
   "pygments_lexer": "ipython3",
   "version": "3.6.3"
  }
 },
 "nbformat": 4,
 "nbformat_minor": 2
}
