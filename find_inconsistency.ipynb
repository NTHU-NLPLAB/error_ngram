{
 "cells": [
  {
   "cell_type": "code",
   "execution_count": 185,
   "metadata": {},
   "outputs": [],
   "source": [
    "import nltk, re\n",
    "import fileinput\n",
    "import itertools\n",
    "from collections import Counter"
   ]
  },
  {
   "cell_type": "code",
   "execution_count": 132,
   "metadata": {},
   "outputs": [],
   "source": [
    "def to_after(tokens, reserved='about'):\n",
    "    def to_after_token(token):\n",
    "        token = token.replace('\\u3000', ' ')\n",
    "        if token == ' ': return ''\n",
    "        \n",
    "        if token.endswith('-]'):\n",
    "            return None\n",
    "        \n",
    "        # 保留字邏輯區，但是可能有誤，像是 is+} 可能抓到 his+}\n",
    "        elif reserved and (token.endswith(reserved + '+}') or token.startswith('[-' + reserved)):\n",
    "            # 丟掉多於一個單字的，目前是 before/after 都丟\n",
    "            return token[token.rfind('>>')+2:-2] if ' ' in token else token\n",
    "        \n",
    "        elif token.endswith('+}'):\n",
    "            return token[token.rfind('>>')+2:-2]  if token.startswith('[-') else token[2:-2]  \n",
    "        else:\n",
    "            return token\n",
    "        \n",
    "    tokens = [e for token in map(to_after_token, tokens) if token for e in token.split(' ')]\n",
    "    indices = [i for i, t in enumerate(tokens) if '+}' in t or '[-' in t ]\n",
    "    return tokens, [-1] + indices + [len(tokens)]\n",
    "\n",
    "def to_before(tokens, reserved=''):\n",
    "    def to_before_token(token):\n",
    "        token = token.replace('\\u3000', ' ')\n",
    "        if token == ' ': return ''\n",
    "        \n",
    "        if token.endswith('-]'):\n",
    "            return token[2:-2]\n",
    "        elif token.endswith('+}'):\n",
    "            return token[2:token.rfind('>>')]  if token.startswith('[-') else None\n",
    "        else:\n",
    "            return token\n",
    "    return [ token for token in map(to_before_token, tokens) if token ]"
   ]
  },
  {
   "cell_type": "code",
   "execution_count": 133,
   "metadata": {},
   "outputs": [
    {
     "data": {
      "text/plain": [
       "(['hello', 'about', 'qqqq', '[-about>>ddd+}', 'asdfdf'], [-1, 3, 5])"
      ]
     },
     "execution_count": 133,
     "metadata": {},
     "output_type": "execute_result"
    }
   ],
   "source": [
    "to_after(['hello','[-about-]', '[-asdf\\u3000asdfccc>>about\\u3000qqqq+}', '[-about>>ddd+}', 'asdfdf'], reserved='about')\n",
    "# to_before(['hello','[-about-]', '[-asdf>>about+}', '[-vvv>>ddd+}', 'asdfdf'])"
   ]
  },
  {
   "cell_type": "code",
   "execution_count": 134,
   "metadata": {},
   "outputs": [],
   "source": [
    "# 擔心有一句包含兩個 about+} 所以換個邏輯\n",
    "def divide_triedit_noedit(aft_tokens, indices):\n",
    "    noedit_list, triedit_list = [], []\n",
    "\n",
    "    segs = zip(indices, indices[1:])\n",
    "    for i, (start, end) in enumerate(segs):\n",
    "        if i != 0 and start > 0 and start+1 < indices[-1]:\n",
    "            triedit_list.append(tuple(aft_tokens[start-1:start+2]))\n",
    "        noedit_list.append(aft_tokens[start+1:end])\n",
    "        \n",
    "    return noedit_list, triedit_list"
   ]
  },
  {
   "cell_type": "code",
   "execution_count": 144,
   "metadata": {},
   "outputs": [
    {
     "data": {
      "text/plain": [
       "([['hello'], ['ddd', 'asdfdf'], ['asdss']],\n",
       " [('hello', '[-asdf>>about+}', 'ddd'), ('asdfdf', '[-fff>>about+}', 'asdss')])"
      ]
     },
     "execution_count": 144,
     "metadata": {},
     "output_type": "execute_result"
    }
   ],
   "source": [
    "aft_tks, ind = to_after(['hello', '[-asdf>>about+}', 'ddd', 'asdfdf', '[-fff>>about+}', 'asdss'])\n",
    "\n",
    "divide_triedit_noedit(aft_tks, ind)"
   ]
  },
  {
   "cell_type": "code",
   "execution_count": 136,
   "metadata": {},
   "outputs": [],
   "source": [
    "def get_bigram(tokens):\n",
    "    return list(nltk.bigrams(tokens))\n",
    "\n",
    "def get_trigram(tokens):\n",
    "    return list(nltk.trigrams(tokens))"
   ]
  },
  {
   "cell_type": "code",
   "execution_count": 161,
   "metadata": {},
   "outputs": [],
   "source": [
    "edit_list = [] # trigram edit\n",
    "bigrams, trigrams = [], []\n",
    "    \n",
    "for line in open('ef.diff.simplize.despace.txt', 'r', encoding='utf8').readlines():# fileinput.input():\n",
    "# for line in open('test.txt', 'r', encoding='utf8').readlines():# fileinput.input():\n",
    "    tokens = line.strip().split(' ')\n",
    "\n",
    "    aft_tokens, indices = to_after(tokens, reserved='about')\n",
    "\n",
    "    noedit_list, edit_tokens = divide_triedit_noedit(aft_tokens, indices)\n",
    "\n",
    "    # if edit_tokens:\n",
    "    #     print(edit_tokens)\n",
    "    # print(noedit_list)\n",
    "    # print(triedit_tokens)\n",
    "    edit_list.extend(edit_tokens)\n",
    "    # print(edit_list)\n",
    "\n",
    "    # 會有 [] 出現，若是長度不夠\n",
    "    for no_edit in noedit_list:\n",
    "        bigrams.extend(get_bigram(no_edit))\n",
    "        trigrams.extend(get_trigram(no_edit))\n"
   ]
  },
  {
   "cell_type": "code",
   "execution_count": 181,
   "metadata": {},
   "outputs": [],
   "source": [
    "bigrams_count = Counter(bigrams)\n",
    "trigrams_count = Counter(trigrams)\n",
    "edit_list_count = Counter(edit_list)\n",
    "uniq_edit = edit_list_count.keys()"
   ]
  },
  {
   "cell_type": "code",
   "execution_count": 196,
   "metadata": {},
   "outputs": [],
   "source": [
    "bi_groupby_first = itertools.groupby(bigrams_count.keys(), key=lambda x: x[0])\n",
    "tri_groupby_first = itertools.groupby(trigrams_count.keys(), key=lambda x: x[0])"
   ]
  },
  {
   "cell_type": "code",
   "execution_count": 153,
   "metadata": {},
   "outputs": [],
   "source": [
    "def bi_vs_edit(bigram, uniq_edit_list):\n",
    "    group = set()\n",
    "    for edit in uniq_edit_list:\n",
    "        if bigram[0] == edit[0] and bigram[1] == edit[2]:\n",
    "            group.add(edit)\n",
    "    return group\n",
    "\n",
    "def tri_vs_edit(trigram, uniq_edit_list, reserved='about'):\n",
    "    group = set()\n",
    "    for edit in uniq_edit_list:\n",
    "        if edit[0] == trigram[0] and edit[2] == trigram[2]:\n",
    "            temp = edit[1][2:-2].split('>>')[0] if edit[1].startswith('[-' + reserved) else edit[1]\n",
    "            if temp == trigram[1]:\n",
    "                group.add(edit)\n",
    "    return group"
   ]
  },
  {
   "cell_type": "code",
   "execution_count": null,
   "metadata": {},
   "outputs": [],
   "source": [
    "def bi_tri_vs_edit(edit, bigrams, unigrams):\n",
    "    for first, items in itertools.groupby(bigrams_count.keys(), key=lambda x: x[0]):\n",
    "        if first \n",
    "        \n",
    "    \n",
    "    pass\n",
    "\n",
    "bi_edit_group = dict()\n",
    "tri_edit_group = dict()\n",
    "\n",
    "for edit in uniq_edit:\n",
    "    bi_tri_vs_edit(edit, bi_groupby_first[edit],)\n",
    "    "
   ]
  },
  {
   "cell_type": "code",
   "execution_count": 154,
   "metadata": {},
   "outputs": [
    {
     "name": "stdout",
     "output_type": "stream",
     "text": [
      "CPU times: user 5 µs, sys: 1 µs, total: 6 µs\n",
      "Wall time: 9.3 µs\n"
     ]
    },
    {
     "data": {
      "text/plain": [
       "{('discuss', '[-about-]', 'it'), ('discuss', '[-about>>abc+}', 'it')}"
      ]
     },
     "execution_count": 154,
     "metadata": {},
     "output_type": "execute_result"
    }
   ],
   "source": [
    "tri_vs_edit(('discuss', 'about', 'it'), \n",
    "           [('discuss','[-about-]','it'), ('discuss','[-about>>abc+}','it'), \n",
    "            ('discuss','[-abc>>about+}','it'), ('discuss', '{+about+}', 'it')])"
   ]
  },
  {
   "cell_type": "code",
   "execution_count": 155,
   "metadata": {},
   "outputs": [
    {
     "ename": "KeyboardInterrupt",
     "evalue": "",
     "output_type": "error",
     "traceback": [
      "\u001b[0;31m---------------------------------------------------------------------------\u001b[0m",
      "\u001b[0;31mKeyboardInterrupt\u001b[0m                         Traceback (most recent call last)",
      "\u001b[0;32m<ipython-input-155-66e8e1e102e6>\u001b[0m in \u001b[0;36m<module>\u001b[0;34m()\u001b[0m\n\u001b[1;32m      1\u001b[0m \u001b[0mbi_edit_group\u001b[0m \u001b[0;34m=\u001b[0m \u001b[0mdict\u001b[0m\u001b[0;34m(\u001b[0m\u001b[0;34m)\u001b[0m\u001b[0;34m\u001b[0m\u001b[0m\n\u001b[1;32m      2\u001b[0m \u001b[0;32mfor\u001b[0m \u001b[0mbi\u001b[0m \u001b[0;32min\u001b[0m \u001b[0mset\u001b[0m\u001b[0;34m(\u001b[0m\u001b[0mbigrams\u001b[0m\u001b[0;34m)\u001b[0m\u001b[0;34m:\u001b[0m\u001b[0;34m\u001b[0m\u001b[0m\n\u001b[0;32m----> 3\u001b[0;31m     \u001b[0mgroup\u001b[0m \u001b[0;34m=\u001b[0m \u001b[0mlist\u001b[0m\u001b[0;34m(\u001b[0m\u001b[0mbi_vs_edit\u001b[0m\u001b[0;34m(\u001b[0m\u001b[0mbi\u001b[0m\u001b[0;34m,\u001b[0m \u001b[0muniq_edit\u001b[0m\u001b[0;34m)\u001b[0m\u001b[0;34m)\u001b[0m\u001b[0;34m\u001b[0m\u001b[0m\n\u001b[0m\u001b[1;32m      4\u001b[0m     \u001b[0;32mif\u001b[0m \u001b[0mgroup\u001b[0m\u001b[0;34m:\u001b[0m \u001b[0mbi_edit_group\u001b[0m\u001b[0;34m[\u001b[0m\u001b[0mbi\u001b[0m\u001b[0;34m]\u001b[0m \u001b[0;34m=\u001b[0m \u001b[0mgroup\u001b[0m\u001b[0;34m\u001b[0m\u001b[0m\n\u001b[1;32m      5\u001b[0m     \u001b[0;31m# print(bi_edit_group[bi])\u001b[0m\u001b[0;34m\u001b[0m\u001b[0;34m\u001b[0m\u001b[0m\n",
      "\u001b[0;32m<ipython-input-153-36057aedcf6a>\u001b[0m in \u001b[0;36mbi_vs_edit\u001b[0;34m(bigram, uniq_edit_list)\u001b[0m\n\u001b[1;32m      2\u001b[0m     \u001b[0mgroup\u001b[0m \u001b[0;34m=\u001b[0m \u001b[0mset\u001b[0m\u001b[0;34m(\u001b[0m\u001b[0;34m)\u001b[0m\u001b[0;34m\u001b[0m\u001b[0m\n\u001b[1;32m      3\u001b[0m     \u001b[0;32mfor\u001b[0m \u001b[0medit\u001b[0m \u001b[0;32min\u001b[0m \u001b[0muniq_edit_list\u001b[0m\u001b[0;34m:\u001b[0m\u001b[0;34m\u001b[0m\u001b[0m\n\u001b[0;32m----> 4\u001b[0;31m         \u001b[0;32mif\u001b[0m \u001b[0mbigram\u001b[0m\u001b[0;34m[\u001b[0m\u001b[0;36m0\u001b[0m\u001b[0;34m]\u001b[0m \u001b[0;34m==\u001b[0m \u001b[0medit\u001b[0m\u001b[0;34m[\u001b[0m\u001b[0;36m0\u001b[0m\u001b[0;34m]\u001b[0m \u001b[0;32mand\u001b[0m \u001b[0mbigram\u001b[0m\u001b[0;34m[\u001b[0m\u001b[0;36m1\u001b[0m\u001b[0;34m]\u001b[0m \u001b[0;34m==\u001b[0m \u001b[0medit\u001b[0m\u001b[0;34m[\u001b[0m\u001b[0;36m2\u001b[0m\u001b[0;34m]\u001b[0m\u001b[0;34m:\u001b[0m\u001b[0;34m\u001b[0m\u001b[0m\n\u001b[0m\u001b[1;32m      5\u001b[0m             \u001b[0mgroup\u001b[0m\u001b[0;34m.\u001b[0m\u001b[0madd\u001b[0m\u001b[0;34m(\u001b[0m\u001b[0medit\u001b[0m\u001b[0;34m)\u001b[0m\u001b[0;34m\u001b[0m\u001b[0m\n\u001b[1;32m      6\u001b[0m     \u001b[0;32mreturn\u001b[0m \u001b[0mgroup\u001b[0m\u001b[0;34m\u001b[0m\u001b[0m\n",
      "\u001b[0;31mKeyboardInterrupt\u001b[0m: "
     ]
    }
   ],
   "source": [
    "bi_edit_group = dict()\n",
    "for bi in set(bigrams):\n",
    "    group = list(bi_vs_edit(bi, uniq_edit))\n",
    "    if group: bi_edit_group[bi] = group\n",
    "    # print(bi_edit_group[bi])\n",
    "    # print('='*50) \n",
    "    \n",
    "tri_edit_group = dict()\n",
    "for tri in set(trigrams):\n",
    "    group = list(tri_vs_edit(tri, uniq_edit))\n",
    "    if group: tri_edit_group[tri] = group\n",
    "    # print(tri_edit_group[tri])\n",
    "    # print('='*50) \n",
    "    \n",
    "tri_edit_group"
   ]
  },
  {
   "cell_type": "code",
   "execution_count": 161,
   "metadata": {},
   "outputs": [],
   "source": [
    "def count_bi_edit(bi_edit, bigrams_count, edit_list_count):\n",
    "    dic = { bi_edit[0]: bigrams_count[bi_edit[0]] }\n",
    "    for ngram in bi_edit[1:]:\n",
    "        dic[ngram] = [edit_list_count[ngram], edit_list_count[ngram] / dic[bi_edit[0]]]\n",
    "    return sorted(dic.items(), key = lambda item: len(item[0]))\n",
    "\n",
    "\n",
    "def count_tri_edit(tri_edit, trigrams_count, edit_list_count):\n",
    "    dic = { tri_edit[0]: trigrams_count[tri_edit[0]] }\n",
    "    for ngram in tri_edit[1:]:\n",
    "        dic[ngram] = [edit_list_count[ngram], edit_list_count[ngram] / dic[tri_edit[0]]]\n",
    "    return sorted(dic.items(), key = lambda item: len(item[0]))\n",
    "\n",
    "\n",
    "def sort(count_bi):\n",
    "    return sorted(count_bi, key=lambda item: (item[1][1][1]))"
   ]
  },
  {
   "cell_type": "code",
   "execution_count": 162,
   "metadata": {},
   "outputs": [],
   "source": [
    "count_bi, count_tri = [], []\n",
    "\n",
    "\n",
    "for bi, edit in bi_edit_group.items():\n",
    "    c_bi_edit = count_bi_edit([bi] + edit, bigrams_count, edit_list_count)\n",
    "    count_bi.append(c_bi_edit)\n",
    "    # print(c_bi_edit)\n",
    "    # print('='*50)\n",
    "\n",
    "for tri, edit in tri_edit_group.items():\n",
    "    c_tri_edit = count_tri_edit([tri] + edit, trigrams_count, edit_list_count)\n",
    "    count_tri.append(c_tri_edit)\n",
    "    # print(c_tri_edit)"
   ]
  },
  {
   "cell_type": "code",
   "execution_count": 163,
   "metadata": {},
   "outputs": [
    {
     "name": "stdout",
     "output_type": "stream",
     "text": [
      "you some: 6\n",
      "you {+about+} some: [1, 0.16666666666666666]\n",
      "==================================================\n",
      "and his: 4\n",
      "and {+about+} his: [1, 0.25]\n",
      "==================================================\n",
      "you something: 4\n",
      "you {+about+} something: [1, 0.25]\n",
      "==================================================\n",
      "was the: 3\n",
      "was {+about+} the: [1, 0.3333333333333333]\n",
      "==================================================\n",
      "think it: 3\n",
      "think [-for>>about+} it: [1, 0.3333333333333333]\n",
      "==================================================\n",
      "you the: 2\n",
      "you {+about+} the: [1, 0.5]\n",
      "==================================================\n",
      "me the: 2\n",
      "me {+about+} the: [1, 0.5]\n",
      "==================================================\n",
      "you my: 2\n",
      "you {+about+} my: [1, 0.5]\n",
      "==================================================\n",
      ", his: 2\n",
      ", {+about+} his: [1, 0.5]\n",
      "==================================================\n",
      "hear your: 1\n",
      "hear {+about+} your: [1, 1.0]\n",
      "hear about+} your: [1, 1.0]\n",
      "==================================================\n",
      "me a: 1\n",
      "me {+about+} a: [1, 1.0]\n",
      "==================================================\n",
      "think a: 1\n",
      "think [-in>>about+} a: [1, 1.0]\n",
      "==================================================\n",
      "information about the: 5\n",
      "information [-about>>under+} the: [1, 0.2]\n",
      "==================================================\n",
      "How about you: 2\n",
      "How [-about>>are+} you: [1, 0.5]\n",
      "==================================================\n",
      "results about the: 1\n",
      "results [-about>>that+} the: [1, 1.0]\n",
      "==================================================\n",
      "apologize about the: 1\n",
      "apologize [-about>>for+} the: [1, 1.0]\n",
      "==================================================\n",
      "care about you: 1\n",
      "care [-about>>of+} you: [1, 1.0]\n",
      "==================================================\n",
      "control about their: 1\n",
      "control [-about>>of+} their: [1, 1.0]\n",
      "==================================================\n",
      "you about your: 1\n",
      "you [-about>>with+} your: [1, 1.0]\n",
      "==================================================\n",
      "thinking about going: 1\n",
      "thinking [-about>>of+} going: [1, 1.0]\n",
      "==================================================\n",
      "flattered about your: 1\n",
      "flattered [-about>>by+} your: [1, 1.0]\n",
      "==================================================\n"
     ]
    }
   ],
   "source": [
    "if __name__ == '__main__':\n",
    "#     print(count_bi)\n",
    "#     print(sort(count_bi))\n",
    "#     print(count_tri)\n",
    "    # print(sort(counts_tri))\n",
    "\n",
    "    for count_bi in sort(count_bi):\n",
    "        for freq in count_bi:\n",
    "            print(' '.join(freq[0]), ': ', freq[1], sep = '')\n",
    "        print('='*50)\n",
    "\n",
    "    for count_tri in sort(count_tri):\n",
    "        for freq in count_tri:\n",
    "            print(' '.join(freq[0]), ': ', freq[1], sep = '')\n",
    "        print('='*50)\n"
   ]
  },
  {
   "cell_type": "code",
   "execution_count": null,
   "metadata": {},
   "outputs": [],
   "source": []
  },
  {
   "cell_type": "code",
   "execution_count": null,
   "metadata": {},
   "outputs": [],
   "source": []
  }
 ],
 "metadata": {
  "kernelspec": {
   "display_name": "Python 3",
   "language": "python",
   "name": "python3"
  },
  "language_info": {
   "codemirror_mode": {
    "name": "ipython",
    "version": 3
   },
   "file_extension": ".py",
   "mimetype": "text/x-python",
   "name": "python",
   "nbconvert_exporter": "python",
   "pygments_lexer": "ipython3",
   "version": "3.6.3"
  }
 },
 "nbformat": 4,
 "nbformat_minor": 2
}
