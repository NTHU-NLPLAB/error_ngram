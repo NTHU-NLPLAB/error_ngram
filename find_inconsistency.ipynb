{
 "cells": [
  {
   "cell_type": "code",
   "execution_count": 55,
   "metadata": {},
   "outputs": [],
   "source": [
    "import nltk\n",
    "import fileinput"
   ]
  },
  {
   "cell_type": "code",
   "execution_count": 56,
   "metadata": {},
   "outputs": [],
   "source": [
    "def to_after(tokens, reserved='about'):\n",
    "    def to_after_token(token):\n",
    "        token = token.replace('\\u3000', ' ')\n",
    "        if token == ' ': return ''\n",
    "        \n",
    "        if token.endswith('-]'):\n",
    "            return None\n",
    "        # key part\n",
    "        elif token.endswith('>>' + reserved + '+}') or token == '{+' + reserved + '+}':\n",
    "            return token\n",
    "        elif token.endswith('+}'):\n",
    "            return token[token.rfind('>>')+2:-2]  if token.startswith('[-') else token[2:-2]  \n",
    "        else:\n",
    "            return token\n",
    "        \n",
    "    # after_tokens\n",
    "    return [e for token in map(to_after_token, tokens) if token for e in token.split(' ')]"
   ]
  },
  {
   "cell_type": "code",
   "execution_count": 59,
   "metadata": {},
   "outputs": [
    {
     "data": {
      "text/plain": [
       "['hello', '[-asdf>>about+}', 'ddd', 'asdfdf']"
      ]
     },
     "execution_count": 59,
     "metadata": {},
     "output_type": "execute_result"
    }
   ],
   "source": [
    "to_after(['hello','[-about-]', '[-asdf>>about+}', '[-vvv>>ddd+}', 'asdfdf'], 'about')"
   ]
  },
  {
   "cell_type": "code",
   "execution_count": 81,
   "metadata": {},
   "outputs": [],
   "source": [
    "# 擔心有一句包含兩個 about+} 所以換個邏輯\n",
    "def divide_triedit_noedit(aft_tokens, reserved='about'):\n",
    "    noedit_list, triedit_list = [[]], []\n",
    "\n",
    "    for i, tk in enumerate(aft_tokens):\n",
    "        if '+}' in tk: # reserved word ，應該是不會有 [--] 出現\n",
    "            if i > 0 and i+1 < len(aft_tokens):\n",
    "                triedit_list.append(tuple(aft_tokens[i-1:i+2]))\n",
    "            \n",
    "            noedit_list.append([])\n",
    "        else: \n",
    "            noedit_list[-1].append(tk)\n",
    "\n",
    "    return noedit_list, triedit_list"
   ]
  },
  {
   "cell_type": "code",
   "execution_count": 85,
   "metadata": {},
   "outputs": [
    {
     "data": {
      "text/plain": [
       "([['hello'], ['ddd', 'asdfdf', 'asdss'], []],\n",
       " [('hello', '[-asdf>>about+}', 'ddd')])"
      ]
     },
     "execution_count": 85,
     "metadata": {},
     "output_type": "execute_result"
    }
   ],
   "source": [
    "divide_triedit_noedit(['hello', '[-asdf>>about+}', 'ddd', 'asdfdf', '[-fff>>about+}', 'asdss'])\n",
    "divide_triedit_noedit(['hello', '[-asdf>>about+}', 'ddd', 'asdfdf', 'asdss'])\n",
    "divide_triedit_noedit(['hello', '[-asdf>>about+}', 'ddd', 'asdfdf', 'asdss', '[-asdsfas>>about+}'])"
   ]
  },
  {
   "cell_type": "code",
   "execution_count": 92,
   "metadata": {},
   "outputs": [],
   "source": [
    "def get_bigram(tokens):\n",
    "    return list(nltk.bigrams(tokens))\n",
    "\n",
    "def get_trigram(tokens):\n",
    "    return list(nltk.trigrams(tokens))"
   ]
  },
  {
   "cell_type": "code",
   "execution_count": 96,
   "metadata": {},
   "outputs": [
    {
     "data": {
      "text/plain": [
       "[('one', 'asd', 'aaa')]"
      ]
     },
     "execution_count": 96,
     "metadata": {},
     "output_type": "execute_result"
    }
   ],
   "source": [
    "get_trigram(['one'])\n",
    "get_trigram(['one', 'asd', 'aaa'])"
   ]
  },
  {
   "cell_type": "code",
   "execution_count": null,
   "metadata": {},
   "outputs": [],
   "source": [
    "def bi_vs_tri(bigram, uniq_edit_list, reserved='about'):\n",
    "    bi_com_tri = set()\n",
    "    for edit in set(uniq_edit_list):\n",
    "        if edit[1].endswith(reserved + '+}'):\n",
    "            if bigram[0] == edit[0] and bigram[1] == edit[2]:\n",
    "                bi_com_tri.add(bigram)\n",
    "                bi_com_tri.add(edit)\n",
    "    return sorted(bi_com_tri, key = len)\n",
    "\n",
    "def tri_vs_tri(tri_noedit, triedit_list):\n",
    "    tri_com_tri = set()\n",
    "    for tri_edit in set(triedit_list):\n",
    "        tri_befs = []\n",
    "        for token in tri_edit:\n",
    "            if token.startswith('[-about'):\n",
    "                token_bef = tri_edit[1][2:-2].split('>>')[0]\n",
    "                tri_befs.append(token_bef)\n",
    "            else:\n",
    "                tri_befs.append(token)  \n",
    "            \n",
    "        if tri_noedit == tuple(tri_befs):\n",
    "            tri_com_tri.add(tri_edit)\n",
    "            tri_com_tri.add(tri_noedit)\n",
    "                      \n",
    "    return sorted(tri_com_tri, reverse = True)"
   ]
  },
  {
   "cell_type": "code",
   "execution_count": 94,
   "metadata": {},
   "outputs": [
    {
     "data": {
      "text/plain": [
       "['a', 'cdd']"
      ]
     },
     "execution_count": 94,
     "metadata": {},
     "output_type": "execute_result"
    }
   ],
   "source": [
    "bi_vs_tri([])"
   ]
  },
  {
   "cell_type": "code",
   "execution_count": 46,
   "metadata": {},
   "outputs": [],
   "source": [
    "\n",
    "\n",
    "\n",
    "def counting_bvst(bitri, bi_noedit_list, triedit_list):\n",
    "    dict = {}\n",
    "    dict[bitri[0]] = bi_noedit_list.count(bitri[0])\n",
    "    for ngram in bitri[1:]:\n",
    "        dict[ngram] = [triedit_list.count(ngram), triedit_list.count(ngram)/dict[bitri[0]]]\n",
    "    return sorted(dict.items(), key = lambda item: len(item[0]))\n",
    "\n",
    "\n",
    "def counting_tvst(tritri, tri_noedit_list, triedit_list):\n",
    "    dict = {}\n",
    "    dict[tritri[0]] = tri_noedit_list.count(tritri[0]) \n",
    "    for ngram in tritri[1:]:\n",
    "        dict[ngram] = [triedit_list.count(ngram), triedit_list.count(ngram)/dict[tritri[0]]]\n",
    "    return sorted(dict.items(), key = lambda item: len(item[0]))\n",
    "\n",
    "\n",
    "def sort(counts_bi):\n",
    "    return sorted(counts_bi, key = lambda item: (item[1][1][1]))\n",
    "\n"
   ]
  },
  {
   "cell_type": "code",
   "execution_count": 9,
   "metadata": {},
   "outputs": [
    {
     "ename": "KeyboardInterrupt",
     "evalue": "",
     "output_type": "error",
     "traceback": [
      "\u001b[0;31m---------------------------------------------------------------------------\u001b[0m",
      "\u001b[0;31mKeyboardInterrupt\u001b[0m                         Traceback (most recent call last)",
      "\u001b[0;32m<ipython-input-9-1a9a885c7f75>\u001b[0m in \u001b[0;36m<module>\u001b[0;34m()\u001b[0m\n\u001b[1;32m     33\u001b[0m \u001b[0;34m\u001b[0m\u001b[0m\n\u001b[1;32m     34\u001b[0m     \u001b[0;32mfor\u001b[0m \u001b[0mbi_noedit\u001b[0m \u001b[0;32min\u001b[0m \u001b[0mset\u001b[0m\u001b[0;34m(\u001b[0m\u001b[0mbi_noedit_list\u001b[0m\u001b[0;34m)\u001b[0m\u001b[0;34m:\u001b[0m\u001b[0;34m\u001b[0m\u001b[0m\n\u001b[0;32m---> 35\u001b[0;31m         \u001b[0mbi_com_tri\u001b[0m \u001b[0;34m=\u001b[0m \u001b[0mbi_vs_tri\u001b[0m\u001b[0;34m(\u001b[0m\u001b[0mbi_noedit\u001b[0m\u001b[0;34m,\u001b[0m \u001b[0mtriedit_list\u001b[0m\u001b[0;34m)\u001b[0m\u001b[0;34m\u001b[0m\u001b[0m\n\u001b[0m\u001b[1;32m     36\u001b[0m         \u001b[0;32mif\u001b[0m \u001b[0mbi_com_tri\u001b[0m\u001b[0;34m:\u001b[0m\u001b[0;34m\u001b[0m\u001b[0m\n\u001b[1;32m     37\u001b[0m     \u001b[0;31m#         # print(bi_com_tri)\u001b[0m\u001b[0;34m\u001b[0m\u001b[0;34m\u001b[0m\u001b[0m\n",
      "\u001b[0;32m<ipython-input-7-64e72938e642>\u001b[0m in \u001b[0;36mbi_vs_tri\u001b[0;34m(bi_noedit, triedit_list)\u001b[0m\n\u001b[1;32m     59\u001b[0m \u001b[0;32mdef\u001b[0m \u001b[0mbi_vs_tri\u001b[0m\u001b[0;34m(\u001b[0m\u001b[0mbi_noedit\u001b[0m\u001b[0;34m,\u001b[0m \u001b[0mtriedit_list\u001b[0m\u001b[0;34m)\u001b[0m\u001b[0;34m:\u001b[0m\u001b[0;34m\u001b[0m\u001b[0m\n\u001b[1;32m     60\u001b[0m     \u001b[0mbi_com_tri\u001b[0m \u001b[0;34m=\u001b[0m \u001b[0mset\u001b[0m\u001b[0;34m(\u001b[0m\u001b[0;34m)\u001b[0m\u001b[0;34m\u001b[0m\u001b[0m\n\u001b[0;32m---> 61\u001b[0;31m     \u001b[0;32mfor\u001b[0m \u001b[0mtri_edit\u001b[0m \u001b[0;32min\u001b[0m \u001b[0mset\u001b[0m\u001b[0;34m(\u001b[0m\u001b[0mtriedit_list\u001b[0m\u001b[0;34m)\u001b[0m\u001b[0;34m:\u001b[0m\u001b[0;34m\u001b[0m\u001b[0m\n\u001b[0m\u001b[1;32m     62\u001b[0m         \u001b[0;32mif\u001b[0m \u001b[0mtri_edit\u001b[0m\u001b[0;34m[\u001b[0m\u001b[0;36m1\u001b[0m\u001b[0;34m]\u001b[0m\u001b[0;34m.\u001b[0m\u001b[0mendswith\u001b[0m\u001b[0;34m(\u001b[0m\u001b[0;34m'about+}'\u001b[0m\u001b[0;34m)\u001b[0m\u001b[0;34m:\u001b[0m\u001b[0;34m\u001b[0m\u001b[0m\n\u001b[1;32m     63\u001b[0m             \u001b[0;32mif\u001b[0m \u001b[0mbi_noedit\u001b[0m\u001b[0;34m[\u001b[0m\u001b[0;36m0\u001b[0m\u001b[0;34m]\u001b[0m \u001b[0;34m==\u001b[0m \u001b[0mtri_edit\u001b[0m\u001b[0;34m[\u001b[0m\u001b[0;36m0\u001b[0m\u001b[0;34m]\u001b[0m \u001b[0;32mand\u001b[0m \u001b[0mbi_noedit\u001b[0m\u001b[0;34m[\u001b[0m\u001b[0;36m1\u001b[0m\u001b[0;34m]\u001b[0m \u001b[0;34m==\u001b[0m \u001b[0mtri_edit\u001b[0m\u001b[0;34m[\u001b[0m\u001b[0;36m2\u001b[0m\u001b[0;34m]\u001b[0m\u001b[0;34m:\u001b[0m\u001b[0;34m\u001b[0m\u001b[0m\n",
      "\u001b[0;31mKeyboardInterrupt\u001b[0m: "
     ]
    }
   ],
   "source": [
    "\n",
    "if __name__ == '__main__':\n",
    "    edit_list = [] # trigram edit\n",
    "\n",
    "    bigrams, trigrams = [], []\n",
    "    \n",
    "    \n",
    "    triedit_bef_list = []\n",
    "    bi_com_tri_set = set()\n",
    "    tri_com_tri_set = set()\n",
    "\n",
    "    counts_bi = []\n",
    "    counts_tri = []\n",
    "\n",
    "    for line in open('ef.diff.simplize.despace.txt', 'r', encoding='utf8').readlines():# fileinput.input():\n",
    "        tokens = line.strip().split(' ')\n",
    "        # print(tokens)\n",
    "        aft_tokens = to_after(tokens)\n",
    "\n",
    "        noedit_list, triedit_tokens = divide_triedit_noedit(aft_tokens)\n",
    "        # print(noedit_list)\n",
    "        # print(triedit_tokens)\n",
    "        edit_list.extend(triedit_tokens)\n",
    "        # print(edit_list)\n",
    "\n",
    "        # 會有 [] 出現，若是長度不夠\n",
    "        for no_edit in noedit_list:\n",
    "            bigrams.extend(get_bigram(no_edit))\n",
    "            trigrams.extend(get_trigram(no_edit))\n",
    "\n",
    "    # print(edit_list)  \n",
    "    # print(bigrams)      \n",
    "    uniq_edit = set(edit_list)\n",
    "    for bi in set(bigrams):\n",
    "    ###################################\n",
    "        bi_com_tri = bi_vs_tri(bi, uniq_edit)\n",
    "        \n",
    "    \n",
    "        if bi_com_tri:\n",
    "    #         # print(bi_com_tri) \n",
    "            bi_com_tri_set.add(tuple(bi_com_tri))\n",
    "    #         # print('='*50)        \n",
    "\n",
    "    for tri_noedit in set(tri_noedit_list):\n",
    "        tri_com_tri = tri_vs_tri(tri_noedit, triedit_list)\n",
    "        if tri_com_tri:        \n",
    "            tri_com_tri_set.add(tuple(tri_com_tri))\n",
    "\n",
    "    # print(bi_com_tri_set)      \n",
    "    \n",
    "    for bitri in bi_com_tri_set:\n",
    "    #     # print(bitri)\n",
    "        count_bvst = counting_bvst(bitri, bi_noedit_list, triedit_list)\n",
    "        counts_bi.append(count_bvst)\n",
    "        # print(count_bvst)\n",
    "        # print('='*50)\n",
    "\n",
    "     # print(tri_noedit_list)\n",
    "    print(tri_com_tri_set)   \n",
    "    #  \n",
    "    for tritri in tri_com_tri_set:\n",
    "    #     # print(tritri)\n",
    "        count_tvst = counting_tvst(tritri, tri_noedit_list, triedit_list)\n",
    "    #     # print(count_tvst)\n",
    "        # counts_tri.append(count_tvst)\n",
    "\n",
    "        for freq in count_tvst:\n",
    "            print(' '.join(freq[0]), ': ', freq[1], sep = '')\n",
    "        print('='*50)\n",
    "\n",
    "\n",
    "    print(counts_bi)\n",
    "    print(sort(counts_bi))\n",
    "    print(counts_tri)\n",
    "    # print(sort(counts_tri))\n",
    "\n",
    "\n",
    "    for count_bi in sort(counts_bi):\n",
    "        for freq in count_bi:\n",
    "            print(' '.join(freq[0]), ': ', freq[1], sep = '')\n",
    "        print('='*50)\n",
    "\n",
    "    # for count_tri in sort(counts_tri):\n",
    "    #     for freq in count_tri:\n",
    "    #         print(' '.join(freq[0]), ': ', freq[1], sep = '')\n",
    "    #     print('='*50)\n",
    "\n",
    "\n",
    "        # for freq in count_bvst:\n",
    "        #     print(' '.join(freq[0]), ': ', freq[1], sep = '')\n",
    "        # print('='*50)\n",
    "\n",
    "   \n",
    "        # for freq in count_tvst:\n",
    "        #     print(' '.join(freq[0]), ': ', freq[1], sep = '')\n",
    "        # print('='*50)\n",
    "\n"
   ]
  },
  {
   "cell_type": "code",
   "execution_count": null,
   "metadata": {},
   "outputs": [],
   "source": []
  }
 ],
 "metadata": {
  "kernelspec": {
   "display_name": "Python 3",
   "language": "python",
   "name": "python3"
  },
  "language_info": {
   "codemirror_mode": {
    "name": "ipython",
    "version": 3
   },
   "file_extension": ".py",
   "mimetype": "text/x-python",
   "name": "python",
   "nbconvert_exporter": "python",
   "pygments_lexer": "ipython3",
   "version": "3.6.3"
  }
 },
 "nbformat": 4,
 "nbformat_minor": 2
}
